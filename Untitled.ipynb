{
 "cells": [
  {
   "cell_type": "code",
   "execution_count": null,
   "id": "fb383cfd-cf5c-429b-9c61-b1dff3ebd6ed",
   "metadata": {},
   "outputs": [],
   "source": []
  }
 ],
 "metadata": {
  "kernelspec": {
   "display_name": "",
   "name": ""
  },
  "language_info": {
   "name": ""
  }
 },
 "nbformat": 4,
 "nbformat_minor": 5
}
